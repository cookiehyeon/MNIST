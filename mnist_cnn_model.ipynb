{
  "nbformat": 4,
  "nbformat_minor": 0,
  "metadata": {
    "colab": {
      "provenance": []
    },
    "kernelspec": {
      "name": "python3",
      "display_name": "Python 3"
    },
    "language_info": {
      "name": "python"
    },
    "accelerator": "GPU",
    "gpuClass": "standard"
  },
  "cells": [
    {
      "cell_type": "code",
      "source": [
        "import matplotlib.pyplot as plt\n",
        "\n",
        "def plot_loss(history):\n",
        "  plt.plot(history.history['loss'], label = 'Train_loss')\n",
        "  plt.plot(history.history['val_loss'], label='Validation loss')\n",
        "  plt.title('Loss')\n",
        "  plt.xlabel('Epoch')\n",
        "  plt.ylabel('Loss')\n",
        "  plt.legend()\n",
        "  plt.show()\n"
      ],
      "metadata": {
        "id": "tpq7_XWFCI7N"
      },
      "execution_count": null,
      "outputs": []
    },
    {
      "cell_type": "code",
      "source": [
        "def plot_accuracy(history):\n",
        "  plt.plot(history.history['accuracy'], label = 'Trian_accuracy')\n",
        "  plt.plot(history.history['val_accuracy'], label = 'Validation accuracy')\n",
        "  plt.title('accuracy')\n",
        "  plt.xlabel('Epoch')\n",
        "  plt.ylabel('accuracy')\n",
        "  plt.legend()\n",
        "  plt.show()"
      ],
      "metadata": {
        "id": "FnEYu-GOC4xQ"
      },
      "execution_count": null,
      "outputs": []
    },
    {
      "cell_type": "markdown",
      "source": [
        "# 1. 데이터 전처리"
      ],
      "metadata": {
        "id": "EgnUk4FlVhGk"
      }
    },
    {
      "cell_type": "code",
      "source": [
        "import logging, os\n",
        "logging.disable(logging.WARNING)\n",
        "os.environ['TF_CPP_MIN_LOG_LEVEL'] = '3' "
      ],
      "metadata": {
        "id": "XvudQUVuNAze"
      },
      "execution_count": null,
      "outputs": []
    },
    {
      "cell_type": "code",
      "execution_count": null,
      "metadata": {
        "id": "AFXODRVVMxtz"
      },
      "outputs": [],
      "source": [
        "# 필요 라이브러리\n",
        "\n",
        "import tensorflow as tf\n",
        "from tensorflow import keras\n",
        "from tensorflow.keras import datasets, layers, models\n",
        "\n",
        "import numpy as np\n",
        "np.random.seed(0)  # 랜덤 시드\n",
        "tf.random.set_seed(1)\n",
        "import matplotlib.pyplot as plt"
      ]
    },
    {
      "cell_type": "code",
      "source": [
        "#데이터 로드\n",
        "# MNIST 데이터\n",
        "#mnist = tf.keras.datasets.mnist\n",
        "\n",
        "# MNIST 데이터 나누기(Train / Test)\n",
        "#(train_images, train_label), (test_images, test_label) = datasets.mnist.load_data()\n",
        "#train_images.shape, test_images.shape\n",
        "\n",
        "#num_classes = 10  # 0 ~ 9 "
      ],
      "metadata": {
        "id": "MSvQ6P4xsQOG"
      },
      "execution_count": null,
      "outputs": []
    },
    {
      "cell_type": "code",
      "source": [
        "# 데이터 로드\n",
        "(train_images, train_label), (test_images, test_label) = datasets.mnist.load_data()\n",
        "\n",
        "train_images.shape, test_images.shape\n",
        "\n",
        "# 하이퍼파라미터 변수 설정\n",
        "\n",
        "LEARNING_RATE = 0.001\n",
        "N_EPOCHS = 20\n",
        "N_BATCHS = 100\n",
        "\n",
        "N_TRAIN = train_images.shape[0]\n",
        "N_TEST = test_images.shape[0]"
      ],
      "metadata": {
        "id": "YQxGB0xnsrD4"
      },
      "execution_count": null,
      "outputs": []
    },
    {
      "cell_type": "code",
      "source": [
        "# 이미지 데이터 0 ~ 1 Scaling\n",
        "\n",
        "train_images = train_images / 255.0\n",
        "test_images = test_images / 255.0\n",
        "\n",
        "train_images = train_images[..., np.newaxis]\n",
        "test_images = test_images[..., np.newaxis]\n",
        "\n",
        "#train_images.shape, test_images.shape"
      ],
      "metadata": {
        "id": "icfffEi4ezb2"
      },
      "execution_count": null,
      "outputs": []
    },
    {
      "cell_type": "code",
      "source": [
        "# 라벨 데이터 One-hot Encoding\n",
        "\n",
        "train_label = np_utils.to_categorical(train_label)\n",
        "test_label = np_utils.to_categorical(test_label)"
      ],
      "metadata": {
        "id": "1cKr875ngCFz"
      },
      "execution_count": null,
      "outputs": []
    },
    {
      "cell_type": "code",
      "source": [
        "# 데이터셋 생성\n",
        "\n",
        "train_dataset = tf.data.Dataset.from_tensor_slices((train_images, train_label)).shuffle(N_TRAIN).batch(N_BATCHS,drop_remainder=True).repeat()\n",
        "test_dataset = tf.data.Dataset.from_tensor_slices((test_images, test_label)).batch(N_BATCHS)"
      ],
      "metadata": {
        "id": "WbrLvTgOqAqg"
      },
      "execution_count": null,
      "outputs": []
    },
    {
      "cell_type": "markdown",
      "source": [
        "# 2. 모델구현"
      ],
      "metadata": {
        "id": "QU_wCNGZVlAC"
      }
    },
    {
      "cell_type": "code",
      "source": [
        "def create_mnist_model():\n",
        "  model = tf.keras.models.Sequential([\n",
        "    tf.keras.layers.Conv2D(input_shape=(28, 28, 1), kernel_size=3, filters=32, activation='relu'),\n",
        "    tf.keras.layers.MaxPool2D(pool_size=(2,2), strides=(1,1)),\n",
        "    tf.keras.layers.Conv2D(input_shape=(28, 28, 1), kernel_size=3, filters=64, activation='relu'),\n",
        "    tf.keras.layers.MaxPool2D(pool_size=(2,2), strides=(1,1)),\n",
        "    tf.keras.layers.Conv2D(input_shape=(28, 28, 1), kernel_size=3, filters=128, activation='relu'),\n",
        "    tf.keras.layers.MaxPool2D(pool_size=(2,2), strides=(1,1)),\n",
        "\n",
        "    tf.keras.layers.Flatten(),\n",
        "\n",
        "    tf.keras.layers.Dense(256, activation='relu'),\n",
        "    tf.keras.layers.Dropout(0.4),\n",
        "    \n",
        "    tf.keras.layers.Dense(10, activation='softmax'),\n",
        "])\n",
        "  \n",
        "  return model"
      ],
      "metadata": {
        "id": "shVMgM17QLiH"
      },
      "execution_count": null,
      "outputs": []
    },
    {
      "cell_type": "code",
      "source": [
        "# 옵티마이저와 손실함수를 설정, acc 나오도록 컴파일\n",
        "\n",
        "model = create_mnist_model()\n",
        "model.compile(optimizer='adam',\n",
        "              loss='categorical_crossentropy',\n",
        "              metrics=['accuracy'])"
      ],
      "metadata": {
        "id": "_l93QWpJQ819"
      },
      "execution_count": null,
      "outputs": []
    },
    {
      "cell_type": "code",
      "source": [
        "# 출력\n",
        "\n",
        "model.summary()"
      ],
      "metadata": {
        "colab": {
          "base_uri": "https://localhost:8080/"
        },
        "id": "z1YG3BkdRTC3",
        "outputId": "862a7cf5-e6ee-4afa-d3d1-f0dc26dfe4df"
      },
      "execution_count": null,
      "outputs": [
        {
          "output_type": "stream",
          "name": "stdout",
          "text": [
            "Model: \"sequential_3\"\n",
            "_________________________________________________________________\n",
            " Layer (type)                Output Shape              Param #   \n",
            "=================================================================\n",
            " conv2d_9 (Conv2D)           (None, 26, 26, 32)        320       \n",
            "                                                                 \n",
            " max_pooling2d_9 (MaxPooling  (None, 25, 25, 32)       0         \n",
            " 2D)                                                             \n",
            "                                                                 \n",
            " conv2d_10 (Conv2D)          (None, 23, 23, 64)        18496     \n",
            "                                                                 \n",
            " max_pooling2d_10 (MaxPoolin  (None, 22, 22, 64)       0         \n",
            " g2D)                                                            \n",
            "                                                                 \n",
            " conv2d_11 (Conv2D)          (None, 20, 20, 128)       73856     \n",
            "                                                                 \n",
            " max_pooling2d_11 (MaxPoolin  (None, 19, 19, 128)      0         \n",
            " g2D)                                                            \n",
            "                                                                 \n",
            " flatten_3 (Flatten)         (None, 46208)             0         \n",
            "                                                                 \n",
            " dense_6 (Dense)             (None, 256)               11829504  \n",
            "                                                                 \n",
            " dropout_3 (Dropout)         (None, 256)               0         \n",
            "                                                                 \n",
            " dense_7 (Dense)             (None, 10)                2570      \n",
            "                                                                 \n",
            "=================================================================\n",
            "Total params: 11,924,746\n",
            "Trainable params: 11,924,746\n",
            "Non-trainable params: 0\n",
            "_________________________________________________________________\n"
          ]
        }
      ]
    },
    {
      "cell_type": "code",
      "source": [
        "# 학습 전 모델 평가\n",
        "\n",
        "model.evaluate(test_dataset)\n",
        "\n",
        "steps_per_epoch = N_TRAIN/N_BATCHS\n",
        "validation_steps = int(np.ceil(N_TEST / N_BATCHS))\n",
        "\n",
        "history = model.fit(train_dataset, epochs=N_EPOCHS, steps_per_epoch=steps_per_epoch,\n",
        "                    validation_data=test_dataset,validation_steps=validation_steps)"
      ],
      "metadata": {
        "colab": {
          "base_uri": "https://localhost:8080/"
        },
        "id": "o0XlAs6jRbnc",
        "outputId": "1632b3aa-cdd5-4505-b08a-9dcf3acec594"
      },
      "execution_count": null,
      "outputs": [
        {
          "output_type": "stream",
          "name": "stdout",
          "text": [
            "100/100 [==============================] - 1s 7ms/step - loss: 2.3002 - accuracy: 0.0853\n",
            "Epoch 1/20\n",
            "600/600 [==============================] - 11s 17ms/step - loss: 0.1316 - accuracy: 0.9591 - val_loss: 0.0421 - val_accuracy: 0.9860\n",
            "Epoch 2/20\n",
            "600/600 [==============================] - 10s 16ms/step - loss: 0.0456 - accuracy: 0.9856 - val_loss: 0.0280 - val_accuracy: 0.9914\n",
            "Epoch 3/20\n",
            "600/600 [==============================] - 10s 17ms/step - loss: 0.0325 - accuracy: 0.9898 - val_loss: 0.0229 - val_accuracy: 0.9927\n",
            "Epoch 4/20\n",
            "600/600 [==============================] - 10s 16ms/step - loss: 0.0254 - accuracy: 0.9923 - val_loss: 0.0292 - val_accuracy: 0.9907\n",
            "Epoch 5/20\n",
            "600/600 [==============================] - 10s 16ms/step - loss: 0.0214 - accuracy: 0.9931 - val_loss: 0.0247 - val_accuracy: 0.9926\n",
            "Epoch 6/20\n",
            "600/600 [==============================] - 10s 16ms/step - loss: 0.0189 - accuracy: 0.9936 - val_loss: 0.0269 - val_accuracy: 0.9928\n",
            "Epoch 7/20\n",
            "600/600 [==============================] - 10s 16ms/step - loss: 0.0155 - accuracy: 0.9952 - val_loss: 0.0292 - val_accuracy: 0.9923\n",
            "Epoch 8/20\n",
            "600/600 [==============================] - 10s 16ms/step - loss: 0.0132 - accuracy: 0.9962 - val_loss: 0.0294 - val_accuracy: 0.9926\n",
            "Epoch 9/20\n",
            "600/600 [==============================] - 10s 16ms/step - loss: 0.0136 - accuracy: 0.9955 - val_loss: 0.0272 - val_accuracy: 0.9927\n",
            "Epoch 10/20\n",
            "600/600 [==============================] - 10s 16ms/step - loss: 0.0110 - accuracy: 0.9967 - val_loss: 0.0296 - val_accuracy: 0.9925\n",
            "Epoch 11/20\n",
            "600/600 [==============================] - 10s 16ms/step - loss: 0.0109 - accuracy: 0.9964 - val_loss: 0.0328 - val_accuracy: 0.9925\n",
            "Epoch 12/20\n",
            "600/600 [==============================] - 10s 16ms/step - loss: 0.0089 - accuracy: 0.9972 - val_loss: 0.0221 - val_accuracy: 0.9945\n",
            "Epoch 13/20\n",
            "600/600 [==============================] - 10s 16ms/step - loss: 0.0067 - accuracy: 0.9979 - val_loss: 0.0349 - val_accuracy: 0.9927\n",
            "Epoch 14/20\n",
            "600/600 [==============================] - 10s 17ms/step - loss: 0.0105 - accuracy: 0.9968 - val_loss: 0.0319 - val_accuracy: 0.9924\n",
            "Epoch 15/20\n",
            "600/600 [==============================] - 10s 16ms/step - loss: 0.0082 - accuracy: 0.9974 - val_loss: 0.0414 - val_accuracy: 0.9920\n",
            "Epoch 16/20\n",
            "600/600 [==============================] - 10s 16ms/step - loss: 0.0062 - accuracy: 0.9981 - val_loss: 0.0483 - val_accuracy: 0.9909\n",
            "Epoch 17/20\n",
            "600/600 [==============================] - 10s 16ms/step - loss: 0.0064 - accuracy: 0.9981 - val_loss: 0.0350 - val_accuracy: 0.9926\n",
            "Epoch 18/20\n",
            "600/600 [==============================] - 10s 16ms/step - loss: 0.0075 - accuracy: 0.9976 - val_loss: 0.0446 - val_accuracy: 0.9922\n",
            "Epoch 19/20\n",
            "600/600 [==============================] - 10s 16ms/step - loss: 0.0067 - accuracy: 0.9977 - val_loss: 0.0451 - val_accuracy: 0.9923\n",
            "Epoch 20/20\n",
            "600/600 [==============================] - 10s 17ms/step - loss: 0.0062 - accuracy: 0.9980 - val_loss: 0.0409 - val_accuracy: 0.9924\n"
          ]
        }
      ]
    },
    {
      "cell_type": "code",
      "source": [
        "plot_loss(history)\n",
        "plot_accuracy(history)"
      ],
      "metadata": {
        "colab": {
          "base_uri": "https://localhost:8080/",
          "height": 573
        },
        "id": "uxnHu0xkRf9S",
        "outputId": "425ab5cf-46a5-4810-84d3-b006a499dc62"
      },
      "execution_count": null,
      "outputs": [
        {
          "output_type": "display_data",
          "data": {
            "text/plain": [
              "<Figure size 432x288 with 1 Axes>"
            ],
            "image/png": "[encoded data removed]"
          },
          "metadata": {
            "needs_background": "light"
          }
        },
        {
          "output_type": "display_data",
          "data": {
            "text/plain": [
              "<Figure size 432x288 with 1 Axes>"
            ],
            "image/png": "[encoded data removed]"
          },
          "metadata": {
            "needs_background": "light"
          }
        }
      ]
    },
    {
      "cell_type": "markdown",
      "source": [
        "# 예측 에러"
      ],
      "metadata": {
        "id": "aJSoRAdkRaoi"
      }
    },
    {
      "cell_type": "code",
      "source": [
        "# 예측 에러가 발생한 샘플 확인\n",
        "# Test dataset 예측\n",
        "\n",
        "pred = model.predict(test_images)\n",
        "pred_label = np.argmax(pred, axis = 1)\n",
        "\n",
        "pred.shape, pred_label.shape"
      ],
      "metadata": {
        "colab": {
          "base_uri": "https://localhost:8080/"
        },
        "id": "ZtAWXZ9i4jhT",
        "outputId": "001947d6-f28b-4653-bf93-83d32926f272"
      },
      "execution_count": null,
      "outputs": [
        {
          "output_type": "stream",
          "name": "stdout",
          "text": [
            "313/313 [==============================] - 1s 2ms/step\n"
          ]
        },
        {
          "output_type": "execute_result",
          "data": {
            "text/plain": [
              "((10000, 10), (10000,))"
            ]
          },
          "metadata": {},
          "execution_count": 67
        }
      ]
    },
    {
      "cell_type": "code",
      "source": [
        "# 예측 에러가 발생한 데이터들 -> index 저장\n",
        "\n",
        "index = np.where(test_dataset != pred_label)[0]\n",
        "print(index.shape)\n",
        "index[:10]"
      ],
      "metadata": {
        "colab": {
          "base_uri": "https://localhost:8080/"
        },
        "id": "v_KZxAMTj1bK",
        "outputId": "210677bb-05a0-4979-9228-db0dde327fc8"
      },
      "execution_count": null,
      "outputs": [
        {
          "output_type": "stream",
          "name": "stdout",
          "text": [
            "(10000,)\n"
          ]
        },
        {
          "output_type": "execute_result",
          "data": {
            "text/plain": [
              "array([0, 1, 2, 3, 4, 5, 6, 7, 8, 9])"
            ]
          },
          "metadata": {},
          "execution_count": 68
        }
      ]
    },
    {
      "cell_type": "code",
      "source": [
        "print(pred_label)"
      ],
      "metadata": {
        "colab": {
          "base_uri": "https://localhost:8080/"
        },
        "id": "jGmm33IrncOg",
        "outputId": "10820870-cd67-4ca0-87d2-2eef011860bc"
      },
      "execution_count": null,
      "outputs": [
        {
          "output_type": "stream",
          "name": "stdout",
          "text": [
            "[7 2 1 ... 4 5 6]\n"
          ]
        }
      ]
    },
    {
      "cell_type": "code",
      "source": [
        "# 모델 저장\n",
        "# 가중치 저장 및 불러오기\n",
        "\n",
        "import os\n",
        "current_dir = os.getcwd() # 현재 작업 dir\n",
        "checkpoint_dir = 'checkpoints' # 가중치 저장할 dir\n",
        "file_name = 'cnn_model_mnist.checkpoint'\n",
        "\n",
        "dir = os.path.join(current_dir, checkpoint_dir)\n",
        "os.makedirs(dir, exist_ok=True)\n",
        "\n",
        "file_path = os.path.join(dir, file_name)\n",
        "print(file_path)\n",
        "\n",
        "# 모델의 가중치 저장\n",
        "\n",
        "model.save_weights(file_path)"
      ],
      "metadata": {
        "colab": {
          "base_uri": "https://localhost:8080/"
        },
        "id": "7cK7yS7H70l4",
        "outputId": "310dcb76-70db-41af-c86d-871e3798fdc3"
      },
      "execution_count": null,
      "outputs": [
        {
          "output_type": "stream",
          "name": "stdout",
          "text": [
            "/content/checkpoints/cnn_model_mnist.checkpoint\n"
          ]
        }
      ]
    },
    {
      "cell_type": "code",
      "source": [
        "# 가중치 불러오기\n",
        "# 모델 생성\n",
        "\n",
        "new_model = create_mnist_model()\n",
        "new_model.compile(optimizer='adam',\n",
        "              loss='categorical_crossentropy',\n",
        "              metrics=['accuracy'])\n",
        "new_model.evaluate(test_dataset) # loss : 2.3018 / acc : 0.0761\n",
        "\n",
        "# new model에 저장된 가중치 설정\n",
        "\n",
        "new_model.load_weights(file_path)\n",
        "new_model.evaluate(test_dataset) # loss : 0.0409 / acc : 0.9924"
      ],
      "metadata": {
        "colab": {
          "base_uri": "https://localhost:8080/"
        },
        "id": "hjso_MWD9AfC",
        "outputId": "d8021400-0a85-4a08-faa3-44ef497c8703"
      },
      "execution_count": null,
      "outputs": [
        {
          "output_type": "stream",
          "name": "stdout",
          "text": [
            "100/100 [==============================] - 1s 7ms/step - loss: 2.2982 - accuracy: 0.0850\n",
            "100/100 [==============================] - 1s 7ms/step - loss: 0.0409 - accuracy: 0.9924\n"
          ]
        },
        {
          "output_type": "execute_result",
          "data": {
            "text/plain": [
              "[0.040938057005405426, 0.9923999905586243]"
            ]
          },
          "metadata": {},
          "execution_count": 116
        }
      ]
    },
    {
      "cell_type": "code",
      "source": [
        "# Callback을 사용한 모델 저장 및 Early Stopping\n",
        "\n",
        "new_model = create_mnist_model()\n",
        "new_model.compile(optimizer='adam',\n",
        "              loss='categorical_crossentropy',\n",
        "              metrics=['accuracy'])\n",
        "\n",
        "checkpoint_path = os.path.join(current_dir, 'callback_checkpoint')\n",
        "os.makedirs(checkpoint_path, exist_ok=True)\n",
        "\n",
        "checkpoint_filepath = os.path.join(checkpoint_path, 'cnn_mnist_{epoch}.checkpoint')\n",
        "print(checkpoint_filepath)"
      ],
      "metadata": {
        "colab": {
          "base_uri": "https://localhost:8080/"
        },
        "id": "x7_QrA7Q9sby",
        "outputId": "91e0e04e-2d55-43ca-e42d-b5ef18b72aaf"
      },
      "execution_count": null,
      "outputs": [
        {
          "output_type": "stream",
          "name": "stdout",
          "text": [
            "/content/callback_checkpoint/cnn_mnist_{epoch}.checkpoint\n"
          ]
        }
      ]
    },
    {
      "cell_type": "code",
      "source": [
        "from keras.callbacks import ModelCheckpoint\n",
        "from tensorflow.keras.callbacks import ModelCheckpoint"
      ],
      "metadata": {
        "id": "G8z0DWf1DkZ3"
      },
      "execution_count": null,
      "outputs": []
    },
    {
      "cell_type": "code",
      "source": [
        "# callback 생성\n",
        "# epoch마다 학습한 가중치들을 저장하는 callback\n",
        "\n",
        "checkpoint_callback = keras.callbacks.ModelCheckpoint(filepath=checkpoint_filepath, \n",
        "                                                      save_best_only=True)\n",
        "\n",
        "# early stopping callback\n",
        "\n",
        "earlystopping_callback=keras.callbacks.EarlyStopping(monitor='val loss', patience=10)"
      ],
      "metadata": {
        "id": "mjspwSyKEnKy"
      },
      "execution_count": null,
      "outputs": []
    },
    {
      "cell_type": "code",
      "source": [
        "# callback을 이용한 모델 학습\n",
        "\n",
        "history = new_model.fit(train_dataset, epochs=N_EPOCHS, steps_per_epoch=steps_per_epoch,\n",
        "                    validation_data=test_dataset,validation_steps=validation_steps,\n",
        "                    callbacks=[checkpoint_callback, earlystopping_callback])"
      ],
      "metadata": {
        "colab": {
          "base_uri": "https://localhost:8080/"
        },
        "id": "u672WG4cFZlU",
        "outputId": "e8211084-33cf-43bc-92dc-bd1455ac64cf"
      },
      "execution_count": null,
      "outputs": [
        {
          "output_type": "stream",
          "name": "stdout",
          "text": [
            "Epoch 1/20\n",
            "599/600 [============================>.] - ETA: 0s - loss: 0.1494 - accuracy: 0.9548WARNING: AutoGraph could not transform <function canonicalize_signatures.<locals>.signature_wrapper at 0x7f2031f7c8b0> and will run it as-is.\n",
            "Cause: Unable to locate the source code of <function canonicalize_signatures.<locals>.signature_wrapper at 0x7f2031f7c8b0>. Note that functions defined in certain environments, like the interactive Python shell, do not expose their source code. If that is the case, you should define them in a .py source file. If you are certain the code is graph-compatible, wrap the call using @tf.autograph.experimental.do_not_convert. Original error: could not get source code\n",
            "To silence this warning, decorate the function with @tf.autograph.experimental.do_not_convert\n",
            "600/600 [==============================] - 12s 19ms/step - loss: 0.1492 - accuracy: 0.9549 - val_loss: 0.0371 - val_accuracy: 0.9865\n",
            "Epoch 2/20\n",
            "600/600 [==============================] - ETA: 0s - loss: 0.0496 - accuracy: 0.9846WARNING: AutoGraph could not transform <function canonicalize_signatures.<locals>.signature_wrapper at 0x7f2031f77940> and will run it as-is.\n",
            "Cause: Unable to locate the source code of <function canonicalize_signatures.<locals>.signature_wrapper at 0x7f2031f77940>. Note that functions defined in certain environments, like the interactive Python shell, do not expose their source code. If that is the case, you should define them in a .py source file. If you are certain the code is graph-compatible, wrap the call using @tf.autograph.experimental.do_not_convert. Original error: could not get source code\n",
            "To silence this warning, decorate the function with @tf.autograph.experimental.do_not_convert\n",
            "600/600 [==============================] - 11s 18ms/step - loss: 0.0496 - accuracy: 0.9846 - val_loss: 0.0253 - val_accuracy: 0.9914\n",
            "Epoch 3/20\n",
            "600/600 [==============================] - ETA: 0s - loss: 0.0347 - accuracy: 0.9892WARNING: AutoGraph could not transform <function canonicalize_signatures.<locals>.signature_wrapper at 0x7f2031f7c790> and will run it as-is.\n",
            "Cause: Unable to locate the source code of <function canonicalize_signatures.<locals>.signature_wrapper at 0x7f2031f7c790>. Note that functions defined in certain environments, like the interactive Python shell, do not expose their source code. If that is the case, you should define them in a .py source file. If you are certain the code is graph-compatible, wrap the call using @tf.autograph.experimental.do_not_convert. Original error: could not get source code\n",
            "To silence this warning, decorate the function with @tf.autograph.experimental.do_not_convert\n",
            "600/600 [==============================] - 11s 18ms/step - loss: 0.0347 - accuracy: 0.9892 - val_loss: 0.0243 - val_accuracy: 0.9922\n",
            "Epoch 4/20\n",
            "599/600 [============================>.] - ETA: 0s - loss: 0.0273 - accuracy: 0.9913WARNING: AutoGraph could not transform <function canonicalize_signatures.<locals>.signature_wrapper at 0x7f2031f7c790> and will run it as-is.\n",
            "Cause: Unable to locate the source code of <function canonicalize_signatures.<locals>.signature_wrapper at 0x7f2031f7c790>. Note that functions defined in certain environments, like the interactive Python shell, do not expose their source code. If that is the case, you should define them in a .py source file. If you are certain the code is graph-compatible, wrap the call using @tf.autograph.experimental.do_not_convert. Original error: could not get source code\n",
            "To silence this warning, decorate the function with @tf.autograph.experimental.do_not_convert\n",
            "600/600 [==============================] - 11s 18ms/step - loss: 0.0272 - accuracy: 0.9913 - val_loss: 0.0235 - val_accuracy: 0.9923\n",
            "Epoch 5/20\n",
            "600/600 [==============================] - 10s 17ms/step - loss: 0.0223 - accuracy: 0.9929 - val_loss: 0.0282 - val_accuracy: 0.9914\n",
            "Epoch 6/20\n",
            "600/600 [==============================] - 10s 16ms/step - loss: 0.0182 - accuracy: 0.9940 - val_loss: 0.0256 - val_accuracy: 0.9918\n",
            "Epoch 7/20\n",
            "600/600 [==============================] - 10s 17ms/step - loss: 0.0165 - accuracy: 0.9948 - val_loss: 0.0266 - val_accuracy: 0.9920\n",
            "Epoch 8/20\n",
            "600/600 [==============================] - ETA: 0s - loss: 0.0141 - accuracy: 0.9954WARNING: AutoGraph could not transform <function canonicalize_signatures.<locals>.signature_wrapper at 0x7f205d2d3310> and will run it as-is.\n",
            "Cause: Unable to locate the source code of <function canonicalize_signatures.<locals>.signature_wrapper at 0x7f205d2d3310>. Note that functions defined in certain environments, like the interactive Python shell, do not expose their source code. If that is the case, you should define them in a .py source file. If you are certain the code is graph-compatible, wrap the call using @tf.autograph.experimental.do_not_convert. Original error: could not get source code\n",
            "To silence this warning, decorate the function with @tf.autograph.experimental.do_not_convert\n",
            "600/600 [==============================] - 12s 20ms/step - loss: 0.0141 - accuracy: 0.9954 - val_loss: 0.0223 - val_accuracy: 0.9929\n",
            "Epoch 9/20\n",
            "600/600 [==============================] - 10s 16ms/step - loss: 0.0135 - accuracy: 0.9957 - val_loss: 0.0257 - val_accuracy: 0.9934\n",
            "Epoch 10/20\n",
            "600/600 [==============================] - 10s 17ms/step - loss: 0.0109 - accuracy: 0.9963 - val_loss: 0.0266 - val_accuracy: 0.9933\n",
            "Epoch 11/20\n",
            "600/600 [==============================] - 10s 16ms/step - loss: 0.0101 - accuracy: 0.9966 - val_loss: 0.0302 - val_accuracy: 0.9912\n",
            "Epoch 12/20\n",
            "600/600 [==============================] - 10s 16ms/step - loss: 0.0085 - accuracy: 0.9973 - val_loss: 0.0255 - val_accuracy: 0.9924\n",
            "Epoch 13/20\n",
            "600/600 [==============================] - 10s 17ms/step - loss: 0.0105 - accuracy: 0.9969 - val_loss: 0.0271 - val_accuracy: 0.9919\n",
            "Epoch 14/20\n",
            "600/600 [==============================] - 10s 16ms/step - loss: 0.0088 - accuracy: 0.9971 - val_loss: 0.0393 - val_accuracy: 0.9896\n",
            "Epoch 15/20\n",
            "600/600 [==============================] - 10s 16ms/step - loss: 0.0078 - accuracy: 0.9977 - val_loss: 0.0359 - val_accuracy: 0.9915\n",
            "Epoch 16/20\n",
            "600/600 [==============================] - 10s 16ms/step - loss: 0.0076 - accuracy: 0.9974 - val_loss: 0.0281 - val_accuracy: 0.9940\n",
            "Epoch 17/20\n",
            "600/600 [==============================] - 10s 17ms/step - loss: 0.0062 - accuracy: 0.9980 - val_loss: 0.0335 - val_accuracy: 0.9930\n",
            "Epoch 18/20\n",
            "600/600 [==============================] - 10s 16ms/step - loss: 0.0065 - accuracy: 0.9979 - val_loss: 0.0311 - val_accuracy: 0.9939\n",
            "Epoch 19/20\n",
            "600/600 [==============================] - 10s 16ms/step - loss: 0.0062 - accuracy: 0.9980 - val_loss: 0.0299 - val_accuracy: 0.9934\n",
            "Epoch 20/20\n",
            "600/600 [==============================] - 10s 16ms/step - loss: 0.0059 - accuracy: 0.9983 - val_loss: 0.0296 - val_accuracy: 0.9934\n"
          ]
        }
      ]
    },
    {
      "cell_type": "code",
      "source": [
        "# 함수형 API를 사용하여 모델 구성\n",
        "\n",
        "import tensorflow as tf\n",
        "import tensorflow.keras as keras\n",
        "import tensorflow.keras.layers as layers\n",
        "\n",
        "def create_mnist_model_fn():\n",
        "    \n",
        "    #input 레이어\n",
        "\n",
        "    input = layers.Input(shape=(28,28,1))\n",
        "    conv1 = layers.Conv2D(filters = 32, kernel_size=3,activation='relu')(input)\n",
        "    pool1 = layers.MaxPool2D()(conv1)\n",
        "\n",
        "    conv2 = layers.Conv2D(filters = 64, kernel_size=3,activation='relu')(input)\n",
        "    pool2 = layers.MaxPool2D()(conv2)\n",
        "\n",
        "    flatten = layers.Flatten()(pool2)\n",
        "    dense1 = layers.Dense(256, activation='relu')(flatten)\n",
        "    dropout1 = layers.Dropout(0.5)(dense1)\n",
        "    output = layers.Dense(10, activation='softmax')(dropout1)\n",
        "\n",
        "    #모델 생성\n",
        "\n",
        "    new_model2 = keras.Model(inputs=input, outputs=output)\n",
        "\n",
        "    return new_model2\n",
        "\n",
        "\n",
        "new_model2 = create_mnist_model_fn()\n",
        "new_model2.compile(optimizer='adam', loss='categorical_crossentropy', metrics='accuracy')\n",
        "\n",
        "new_model2.summary()\n"
      ],
      "metadata": {
        "colab": {
          "base_uri": "https://localhost:8080/"
        },
        "id": "4X82VYge9aLd",
        "outputId": "25a29f14-c41e-4e4d-945e-b0a58e8842da"
      },
      "execution_count": null,
      "outputs": [
        {
          "output_type": "stream",
          "name": "stdout",
          "text": [
            "Model: \"model_6\"\n",
            "_________________________________________________________________\n",
            " Layer (type)                Output Shape              Param #   \n",
            "=================================================================\n",
            " input_8 (InputLayer)        [(None, 28, 28, 1)]       0         \n",
            "                                                                 \n",
            " conv2d_63 (Conv2D)          (None, 26, 26, 64)        640       \n",
            "                                                                 \n",
            " max_pooling2d_63 (MaxPoolin  (None, 13, 13, 64)       0         \n",
            " g2D)                                                            \n",
            "                                                                 \n",
            " flatten_23 (Flatten)        (None, 10816)             0         \n",
            "                                                                 \n",
            " dense_46 (Dense)            (None, 256)               2769152   \n",
            "                                                                 \n",
            " dropout_23 (Dropout)        (None, 256)               0         \n",
            "                                                                 \n",
            " dense_47 (Dense)            (None, 10)                2570      \n",
            "                                                                 \n",
            "=================================================================\n",
            "Total params: 2,772,362\n",
            "Trainable params: 2,772,362\n",
            "Non-trainable params: 0\n",
            "_________________________________________________________________\n"
          ]
        }
      ]
    }
  ]
}